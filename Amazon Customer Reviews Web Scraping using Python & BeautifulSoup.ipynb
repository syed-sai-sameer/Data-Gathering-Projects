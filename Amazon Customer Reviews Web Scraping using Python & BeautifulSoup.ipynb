{
 "cells": [
  {
   "cell_type": "code",
   "execution_count": 1,
   "metadata": {},
   "outputs": [],
   "source": [
    "import requests\n",
    "from bs4 import BeautifulSoup\n",
    "import pandas as pd"
   ]
  },
  {
   "cell_type": "code",
   "execution_count": 2,
   "metadata": {},
   "outputs": [],
   "source": [
    "def getAmazonSearch(search_query):\n",
    "    url = \"https://www.amazon.in/s?k=\"+search_query\n",
    "    #print(url)\n",
    "    for i in range(100):\n",
    "        response = requests.get(url)\n",
    "        #print(response.status_code)\n",
    "        if response.status_code == 200:\n",
    "            break\n",
    "    return response"
   ]
  },
  {
   "cell_type": "code",
   "execution_count": 3,
   "metadata": {},
   "outputs": [],
   "source": [
    "data_asin = []\n",
    "page = getAmazonSearch('mobile')\n",
    "soup = BeautifulSoup(page.content,'html.parser')"
   ]
  },
  {
   "cell_type": "code",
   "execution_count": 4,
   "metadata": {},
   "outputs": [],
   "source": [
    "for i in soup.findAll(\"div\",class_ = \"sg-col-20-of-24 s-result-item s-asin sg-col-0-of-12 sg-col-28-of-32 sg-col-16-of-20 sg-col sg-col-32-of-36 sg-col-12-of-16 sg-col-24-of-28\"):\n",
    "    data_asin.append(i['data-asin'])\n",
    "    if len(data_asin) == 10:\n",
    "        break"
   ]
  },
  {
   "cell_type": "code",
   "execution_count": 5,
   "metadata": {},
   "outputs": [],
   "source": [
    "def searchAsin(asin):\n",
    "    url = \"https://www.amazon.in/dp/\"+asin\n",
    "    #print(url)\n",
    "    for i in range(100):\n",
    "        response = requests.get(url)\n",
    "        #print(response.status_code)\n",
    "        if response.status_code == 200:\n",
    "            break\n",
    "    return response"
   ]
  },
  {
   "cell_type": "code",
   "execution_count": 6,
   "metadata": {},
   "outputs": [],
   "source": [
    "link = []\n",
    "for i in range(len(data_asin)):\n",
    "    page = searchAsin(data_asin[i])\n",
    "    soup = BeautifulSoup(page.content, 'html.parser')\n",
    "    for i in soup.findAll(\"a\", {'data-hook':'see-all-reviews-link-foot'}):\n",
    "        link.append(i['href'])"
   ]
  },
  {
   "cell_type": "code",
   "execution_count": 7,
   "metadata": {},
   "outputs": [
    {
     "name": "stdout",
     "output_type": "stream",
     "text": [
      "/Redmi-8A-Dual-Blue-Storage/product-reviews/B07X4R63DF?reviewerType=all_reviews\n"
     ]
    }
   ],
   "source": [
    "print(link[0])"
   ]
  },
  {
   "cell_type": "code",
   "execution_count": 8,
   "metadata": {},
   "outputs": [],
   "source": [
    "def searchReview(review_link):\n",
    "    url = \"https://www.amazon.in\"+review_link\n",
    "    for i in range(100):\n",
    "        response = requests.get(url)\n",
    "        #print(response.status_code)\n",
    "        if response.status_code == 200:\n",
    "            break\n",
    "    return response"
   ]
  },
  {
   "cell_type": "code",
   "execution_count": 9,
   "metadata": {},
   "outputs": [],
   "source": [
    "data_set = {}\n",
    "for i in range(len(link)):\n",
    "    reviews = []\n",
    "    for j in range(100):\n",
    "        page = searchReview(link[i] + \"&pageNumber=\" + str(j))\n",
    "        soup = BeautifulSoup(page.content, 'html.parser')\n",
    "        key = soup.find(\"a\", {'data-hook':'product-link'})\n",
    "        for k in soup.findAll(\"span\",{'data-hook':'review-body'}):\n",
    "            reviews.append(k.text)\n",
    "        if len(reviews) == 100: break\n",
    "    data_set[key.text] = reviews"
   ]
  },
  {
   "cell_type": "code",
   "execution_count": 10,
   "metadata": {},
   "outputs": [
    {
     "name": "stdout",
     "output_type": "stream",
     "text": [
      "\n",
      "\n",
      "  The product does not work properly.and taffen glass was stick improperly. My applied was not taken because the corona effect in India . after that's return order date will be close.plz do some for me.🙏\n",
      "\n",
      "\n"
     ]
    }
   ],
   "source": [
    "print(reviews[99])"
   ]
  },
  {
   "cell_type": "code",
   "execution_count": 11,
   "metadata": {},
   "outputs": [
    {
     "name": "stdout",
     "output_type": "stream",
     "text": [
      "dict_keys(['Redmi 8A Dual (Sea Blue, 2GB RAM, 32GB Storage) – Dual Cameras & 5,000 mAH Battery', 'Samsung Galaxy M21 (Midnight Blue, 4GB RAM, 64GB Storage)', 'OPPO A5 2020 (Dazzling White, 4GB RAM, 64GB Storage) with No Cost EMI/Additional Exchange Offers', 'Samsung Galaxy M01 (Black, 3GB RAM, 32GB Storage) with No Cost EMI/Additional Exchange Offers', 'Samsung Galaxy M31 (Ocean Blue, 6GB RAM, 128GB Storage)', 'Samsung Galaxy M01 Core (Black, 2GB RAM, 32GB Storage) with No Cost EMI/Additional Exchange Offers', 'Tecno Spark 6 Air (Ocean Blue, 3GB RAM, 32GB Storage)', 'Redmi 8A Dual (Sea Blue, 3GB RAM, 32GB Storage) – Dual Cameras & 5,000 mAH Battery', 'Redmi 8A Dual (Midnight Grey, 2GB RAM, 32GB Storage) – Dual Cameras & 5,000 mAH Battery', 'Redmi Note 9 Pro (Interstellar Black, 4GB RAM, 64GB Storage)- Latest 8nm Snapdragon 720G & Alexa Hands-Free | 6 Months No Cost EMI'])\n"
     ]
    }
   ],
   "source": [
    "print(data_set.keys())"
   ]
  },
  {
   "cell_type": "code",
   "execution_count": 12,
   "metadata": {},
   "outputs": [
    {
     "name": "stdout",
     "output_type": "stream",
     "text": [
      "[\"\\n\\n  Update (15/08/2020):Never give a chance to regret..  Go ahead...👍The Icons looks was not so great ..  And then I set 'Spherlue Icons' from theam and now its looks better with dark mode ...Even though its 6000 Mah I always leaves phone on charging before go to bed ( I like to see my phone 100% every morning 🙂 )..  So I turned off fast charging option.. You can do that.. Its will not affect  batteryMONSTER :1. Battery :- 5/5Two day battery standby for normal easy2.Display:- 4.99/5Super amaload with full hd.. Superb Display3.Design:3/5It has a6000Mah battery,  still looking not bulky. Noglass body,  but who cares after you put a back cover..  In my opinion, don't spend more money for glass body if you uses back covers4. Camera: 3/5Back camera pretty good but front camera's low light output is very low..  many features available such as slow and super slow videos available..5. OS&UI:- 5/5Android 10 with One UI6.Finger print reader and face lock 3/5 Face lock and finger print reader are not so fast7.Processor and performance 3.5/5Exynos 9611 is not meant for PUBG gamers  .. But for me its perfect as I am not a heavy gamer..  No lag ang hang till now..  but processor is outdated..8. Charging :2.5/5. No fast charging.. Provided with a 15W charger and iy takes about 3 Hrs to fully reacharge the phone9. Accessories : 2/5No earphone, No Back cover, No Screenguard..  So order backcover and tempered glass when you placing order as its backbody is plastic amd more prone to scratches..10.Loud speaker 1.5/5Loudspeaker sound level is very low.. (Keep earphones)Verdict: For this price  Its the best choice if you are not a hardcore gamer  ...\\n\\n\", '\\n\\n  As a title it is obviously a monsterAnd very very good performance\\n\\n', \"\\n\\n  Brilliant camera, huge battery life and brilliant display in addition with the premium feeling of SAMSUNG. It's a shame that this phone's launch was delayed due to lockdown.Highly Recommended phone 😊😊\\n\\n\", '\\n\\n  I am writing my review after using it for 6 days.I have bought sumsung phone after 7 years hoping it could be good phone but samsung again disappointed me a lot.They claim it has 6000mAH battery but drain like 3000mAH and it take almost 2.30hrs to charge from 10% to 90% so its fast charging is not a fast charging. Its just a market gimic to clail it monester like features i.e.battery 6000mAH ,15W fast charge ete but reality is far far away from claims.Others features are as per price range but if you thinking for a battery packed phone with fast charge,then I would sugget plz search for others phone in same range.\\n\\n', '\\n\\n  Defective product received, it gets 8 to 12 hours in charging and Amazon is not exchanging the product\\n\\n', \"\\n\\n  Very poor performance. Hangs aloft. Even I don't use any gaming app. In browsing only, this phone lacks. Inspite of having 6 GB RAM. This product serves zero rating. Please don't buy  this. Wastage of money. No refund policy for this device.\\n\\n\", '\\n\\n  I love this one, and this is best in class, no.1 best budget mobile and Samsung mobile brand also global no.1 brand in the world. Great one, my rating is more than 5star, thanks to Samsung n Amazon.\\n\\n', \"\\n\\n  Value for money.I am not a gamer. So can't say about the gaming performance. But for those who are buying it for normal usage, this phone is great. With 6gb ram,128 GB internal storage and Amoled display I am more than satisfied.I have been using Samsung phones from the start. Samsung's Amoled screen is what I am attracted to the most. The feel it gives is simply amazing.But battery dont seem to be a 6000 mah.As far as a non gamer is concerned this phone is the best under this price range.\\n\\n\", '\\n\\n  Very Nice Mobile good all\\n\\n', '\\n\\n  Samsung galaxy m21 very good phone in this price... I am bought rs 12699.. ❤️😉\\n\\n', \"\\n\\n  Update (15/08/2020):Never give a chance to regret..  Go ahead...👍The Icons looks was not so great ..  And then I set 'Spherlue Icons' from theam and now its looks better with dark mode ...Even though its 6000 Mah I always leaves phone on charging before go to bed ( I like to see my phone 100% every morning 🙂 )..  So I turned off fast charging option.. You can do that.. Its will not affect  batteryMONSTER :1. Battery :- 5/5Two day battery standby for normal easy2.Display:- 4.99/5Super amaload with full hd.. Superb Display3.Design:3/5It has a6000Mah battery,  still looking not bulky. Noglass body,  but who cares after you put a back cover..  In my opinion, don't spend more money for glass body if you uses back covers4. Camera: 3/5Back camera pretty good but front camera's low light output is very low..  many features available such as slow and super slow videos available..5. OS&UI:- 5/5Android 10 with One UI6.Finger print reader and face lock 3/5 Face lock and finger print reader are not so fast7.Processor and performance 3.5/5Exynos 9611 is not meant for PUBG gamers  .. But for me its perfect as I am not a heavy gamer..  No lag ang hang till now..  but processor is outdated..8. Charging :2.5/5. No fast charging.. Provided with a 15W charger and iy takes about 3 Hrs to fully reacharge the phone9. Accessories : 2/5No earphone, No Back cover, No Screenguard..  So order backcover and tempered glass when you placing order as its backbody is plastic amd more prone to scratches..10.Loud speaker 1.5/5Loudspeaker sound level is very low.. (Keep earphones)Verdict: For this price  Its the best choice if you are not a hardcore gamer  ...\\n\\n\", '\\n\\n  As a title it is obviously a monsterAnd very very good performance\\n\\n', \"\\n\\n  Brilliant camera, huge battery life and brilliant display in addition with the premium feeling of SAMSUNG. It's a shame that this phone's launch was delayed due to lockdown.Highly Recommended phone 😊😊\\n\\n\", '\\n\\n  I am writing my review after using it for 6 days.I have bought sumsung phone after 7 years hoping it could be good phone but samsung again disappointed me a lot.They claim it has 6000mAH battery but drain like 3000mAH and it take almost 2.30hrs to charge from 10% to 90% so its fast charging is not a fast charging. Its just a market gimic to clail it monester like features i.e.battery 6000mAH ,15W fast charge ete but reality is far far away from claims.Others features are as per price range but if you thinking for a battery packed phone with fast charge,then I would sugget plz search for others phone in same range.\\n\\n', '\\n\\n  Defective product received, it gets 8 to 12 hours in charging and Amazon is not exchanging the product\\n\\n', \"\\n\\n  Very poor performance. Hangs aloft. Even I don't use any gaming app. In browsing only, this phone lacks. Inspite of having 6 GB RAM. This product serves zero rating. Please don't buy  this. Wastage of money. No refund policy for this device.\\n\\n\", '\\n\\n  I love this one, and this is best in class, no.1 best budget mobile and Samsung mobile brand also global no.1 brand in the world. Great one, my rating is more than 5star, thanks to Samsung n Amazon.\\n\\n', \"\\n\\n  Value for money.I am not a gamer. So can't say about the gaming performance. But for those who are buying it for normal usage, this phone is great. With 6gb ram,128 GB internal storage and Amoled display I am more than satisfied.I have been using Samsung phones from the start. Samsung's Amoled screen is what I am attracted to the most. The feel it gives is simply amazing.But battery dont seem to be a 6000 mah.As far as a non gamer is concerned this phone is the best under this price range.\\n\\n\", '\\n\\n  Very Nice Mobile good all\\n\\n', '\\n\\n  Samsung galaxy m21 very good phone in this price... I am bought rs 12699.. ❤️😉\\n\\n', '\\n\\n  Even realme performs better.....few issues which concerned me after use were1. When recording slow motion videos...there is  always flicker on screen.2. fingerprint sensor needs more than few attempts to work3. Camera is better than realme but not as good as redmi4. Battery survives one and half day......which is bad because till now I m using it only for WhatsApp and call......I wonder what will happen when I use it for gaming5. Heats when i charge....not expected from a world class company phone6. Mobile data connection vanishes many times in a day...I thought it was my airtel network .....but the same sim works on my old volte phone...without any issue....Suggestions for people who have bought this phone.....Since company does not provides a screen guard..... Please add a screen guard as soon as possible.....because my phone got little scratches ....as I had kept my bike keys and phone in same pocket....I am repenting on not applying screen guard on my phone early...Suggestions for People who have not bought this phone.....If you are low on budget then only select this model ......otherwise go for some other model of Samsung or any other brand.....by adding few more bucks....I am attaching two videos one in normal mode.....second in slow mode.....both videos are made by m21......you can see the flikr effect in second video easily..\\n\\n', '\\n\\n  Heating problem. In simple browising only phone gets heated up in upper side. When asking for replacement amazon customer care they are fooling us. Very pathetic condition.\\n\\n', '\\n\\n  Just one word AMAZING\\n\\n', \"\\n\\n  The phone(M21 Raven Black) is not working properly since its purchase. After the first installation, it is on frequently on and off mode and even restarts after more than 30 minutes. Moreover 4-5 times it takes more than 2 hours for starting.I also register a complaint to Amazon regarding this. I don't need such a disgusting phone any more. it wastes my 3 days. So, I request to Amazon kindly refund my money, I don't need replacement.\\n\\n\", '\\n\\n  Now Amazone has REPLACED THE DAMAGED ONE NOW THE PHONE IS GOOD ENOUGH...PREVIOUS ONE WAS Nonsence What A Nonsence Battery It Comes to 90% Charge After a full charge only if u do something in10 minutes.... What nonsence is this. NEED REPLACEMENT. Do you people think customers are Mad.\\n\\n', '\\n\\n  Otg pendrive not supported\\n\\n', \"\\n\\n  This phone's video,photo quality and audio quality is very poor\\n\\n\", '\\n\\n  After 5 hrs continuously  charging level reach 55 %,during call sound quality not clear,a lot of heating problem,camera quality not good,network issue,slow processing..poor performance\\n\\n', '\\n\\n  Heating problems\\n\\n', '\\n\\n  Looks like just to clear the unsold stock of m30s they gave it a new name and advertised it as a totally new phone. Everything is similar to m30s, except the price (and selfie camera). Good thing is that they kept the price low.Just got it delivered today. So far so good, many users compalined about battery, charging speed, display issues on m30s. Hope they got it resolved in m21.\\n\\n', \"\\n\\n  Worst phone of my life I have ever purchase . Due to this pandemic situation and blaming china for this corona virus I have decided to purchase a korian company phone . But I broke up my trust . Battery life is poor as it's shows 6000Mah but performance wise it's behave like 4000Mah. Bcuz it's drain so quickly processor is very slow it's hang up in 5 minute and heat like u can make your veggie on this even it's can burn ur ears finger print is not responding I have washed my hand many time but it's not ready to recognize it's. Finally my humble request to amazon pls return this I have made a big mistake to purchase it. Pls help me to return it\\n\\n\", \"\\n\\n  A nice looking phone.Light weight because of the plastic body. Performance is pretty good.But it doesn't feel like a 6000 mAh battery. Probably a little shy of that figure. It Drains relatively quickly than what is expected of a 6000 mAh capacity.But overall a product worth it's price. Probably not good for high performance gaming.But expect it to be durable with a low-medium usage.\\n\\n\", \"\\n\\n  Samsung Co. Claims that Samsung M21 has fast charging facility and It has 6000 mAh battery but these two claims are totally bogus because I've purchased Samsung M21 and received my order yesterday after using this phone I plugged in charger for charging it took approximate 9 hours to charge the Mobile phone and after full charging approximate 2 hours the Mobile phone battery get reduced 50%. I'm totally disappointed with this phone.\\n\\n\", \"\\n\\n  Don't like this product. It looks, it's already used by someone else. Apps are not downloading. It shows 6 appsare downloading. I'm confused.\\n\\n\", \"\\n\\n  I bought the Raven Black, 4GB-64GB variant of the Samsung Galaxy M21 for my mother. I'm impressed with the phone's overall usability. Since my mother is not a heavy user unlike me, I decided to go for Samsung by considering the brand value and overall specs of the phone. The main requirements for my mom are- Good display for media consumption, good battery life and a clean and easy to use UI without any unnecessary ads. Since the Galaxy M21 ticks all the right boxes I decided to go for this phone. Moreover my mother was using a Samsung Mobile prior to this and hence she was accustomed with the functionality of the UI.-The display of the phone is brilliant and at par with the Amoled display of my Redmi K20 Pro.-The battery life is also very good and it easily gives 1.5 days backup even under heavy usage. The only complain I have is the length of the charging cable which is very short.- The performance is good too for day to day usage. The Exynos 9511 is fairly capable and I haven't seen any stutter or lag in UI. If you are ahardcore gamer than I would recommend to look for alternative since it would not perform as good as its competition in regards to gaming. For casual gamers it will do the job well.-The cameras on this phone are brilliant with very good image processing done by Samsung. It takes pictures with natural colours.- The speaker output is average. Its loud enough but the sound produced is nothing impressive since it lacks bass and that clarity in the sound output.- The audio output via the 3.5mm Jack is very good as it supports Dolby Atmos.- The fingerprint sensor is very fast but the face unlock feature is not that consistent as it sometimes fails to read your face.Hence, overall it is a great value package from Samsung and I would highly recommend this phone to everyone looking for a good phone at this price point unless he/she is a heavy gamer. Thanks for reading.Update: After the Software update on 17 June the face unlock feature got extremely fast and accurate.😀\\n\\n\", '\\n\\n  I am writing this review after one-week use of Samsung Galaxy M21.The only good point is amazing Samsung one UI 2.0 and sAMOLED displayThe issues I faced are1. Super Slow Camera: It is taking 2-4 sec to capture the photo with 48 MP camera2. Heating issue: Many time with normal using I observed some heating on the top of the backside3. Poor Network Antenna: I was using MOTOROLA in the same area and receiving a better signal (latency few milliseconds) as compared to Galaxy M21 (Latency and signal strength are quite low in same ISP).4. Big Battery but Worst Performance: Battery backup is not satisfactory and only a little better than 3400 mAh with Snapdragon SoC based phone. Additionally, it is taking a huge amount of time for charging.Among all these issues I believe it is an average deal under 13k\\n\\n', \"\\n\\n  Amazon delivered a defective phone to me and then they don't even receive my call while I tried to approach them.  Buying Samsung Galaxy M21 is waste of money.\\n\\n\", '\\n\\n  1. I bought this to gift it to my dear one but I am shocked to see the camera quality of this phone is like 1 mb. I tried all the modes but it enhances the photo brightness automatically and and the photo becomes like a cartoon.2. Tried installing other camera apps but still the quality is poor.3. Tried options for returning but found that there is no option for that.4. Spoke to customer care and they say that they can only replace if the product is damaged and no option for quality related issues. I said that I am ready to buy any other product too. But no response from them.It’s better to buy from local store than going behind Amazon.\\n\\n', '\\n\\n  Samsung m21 Mobile not in the delivery box, only charger and pin are available. Need refund for the same.For mobiles, its better to opt for cash on delivery, to avoid getting cheated.\\n\\n', \"\\n\\n  I like the camera quality, screen sensitivity,  and browsing experience. The speed is excellent.I don't like it's sound. The speaker is not the best, sometimes when I put on loud speaker the person I am speaking to will complain they cannot hear me. Plus when I play music the sound is not the best. Also, the phone does not come with original earphones so you have to hustle for that. Lastly it will take 3 hours to charge and still the battery will only last for 24hours.\\n\\n\", '\\n\\n  Realy very very good phone,but stil I did not get,due to covid\\n\\n', '\\n\\n  Display good, battery  performance  after one  week  of use has improved,camera is good,hope Samsung  provides  regular  updates..Excellent  phone  keep good  work  up Samsung 👌\\n\\n', \"\\n\\n  There are some strong point which will force you to buy this phone.1. One UI 2.0 - I would say Samsung's UI is the best experience you can ever feel in any budget phone. This is the strongest point which no youtuber will tell you ever.2. Screen - none other brand offers this quality of screen in their phone of same budget. A user's first priority is screen because 24/7 he/she just need to see on the screen, no metter whatever thing is he using in his phone.Camera- daylight shots are amazing as all the Samsung's phone do. Color contrast is and image processing is better then redmi note 9 pro and realme 6 which is rs1300 more. but night shots are not as good as other brands give.Battery- after 2hrs pubg and regular social media usage you can enjoy this phone from morning 7am to evening 12pm.Charging speed is very slow. It took 2hrs and 30 mins to fully charge.Performance- No doubt Exynos 9611 is not as good as sd720g or helioG90t. But in daily task you will not face any lag on this phone.For pubg gamer-you will notice lag in high resolution gaming but if you want to play without lag then obviously you have to play in Smooth+Ultra it will give you a best performance without any issue.\\n\\n\", \"\\n\\n  What can I say just after 30 min.of recieving this phone I applied for return my money. Before this phone I already have 2 phone of Samsung's working good but this phone made in India is hot like a oven.I can't take it near my ears .I have to use ear phone.I call customer care they give me different different idea but problem remain same.I don't give advice to buy this product to any one be careful.\\n\\n\", '\\n\\n  Battery  drain quickly... and phone heat a lot.\\n\\n', '\\n\\n  I got phone having mic issue and there is no option to put a replacement request as i tried download the blanco app that doesnt work and just hanged in between and no technical person available to check whenever i called..so how would i place the request to replacement??\\n\\n', '\\n\\n  Amazing phone But m not satisfied with camera quality, its 48MP? I used samsung galaxy S8 its only 12MP single camera which is good for m21 tripple camera.One more thing is back panel is plastic which is not good looking inthis range ..Its not feel premium with this budget....\\n\\n', '\\n\\n  recently i ordered samsung M21 6GB RAM 128GB Flash.Unboxed and started the phone. it surprised to see so much of heated while booting itself.I tried to inform to Amazon . they tested with some remote diagnostics application surprisingly it showed the temperature is degree.I am using Samsung phones long time. this time my experience with M21 is very very badNew buyers please little careful about heating issue\\n\\n', '\\n\\n  Received Samsung M 21 yesterday..highly disappointed  about slow charging and poor quality of camera..did not expect this from Samsung.I suggest not to buy this mobile.\\n\\n', '\\n\\n  Only ph headphone missThis is scam\\n\\n', \"\\n\\n  Great phone. There is no overheating like others say. For the price you getting a quality phone with massive battery life.Here are the pros:-Good qualityExcellent displayExcellent batteryBest cameraHere are the cons:-Speaker quality is not good. It's loud but distorted at high volume with no bass at allHeadphone quality is ok. Not the best. I prefer wireless because of Dolby AtmosCharging speed is ok, not fast nor slow. It took 2hrs to fully charge. It's fast for 6000mahCamera app need a redesignAside all this.. it is the best phone under 15k.Go for it.\\n\\n\", '\\n\\n  I have previously purchased m30s but the the signal strength was very weak so I had to to sell the phone on OLX . Apart from the signal strength the phone was awesome I had used Nokia 1 and the internet was superfast by using the same sim card. I suppose Samsung reduces the signal strength in order to reduce the SAR rating. I understand that SAR rating is harmful to our body and brain but Nokia is far excellent in terms of signal strength.Samsung phones are excellent in terms of providing good specifications in budget. Now coming to this phone camera is good, touch responsiveness is excellent, it is having Wi-Fi calling which was not mentioned on the comparison websites such has 91Mobiles neither on the specifications on any otyer website. So M21 is having all the features as comparison to m30s.M21 is having Gorilla Glass which m30s lacksM21 is having Android 10 version As compared to Android 9 of m30s but m30s can be upgraded to Android 10, 11This phone lacks NFC which is present in A30s  A50sBattery is 6000 mah but Nokia phones having the same processor, screen size with 3500 MH batteries are running the same duration as this phone. So 6000 image battery is just a marketing gimmick.Charging even using the type C fast charger takes up to 4 hours for full charge. Battery lasts for one day after heavy usage.Pros:Super amoled screen6000 MaH batteryCons:Signal strength is very poor.(You will have to wait for almost a year to download an app)Since I watch internet TV so I rely on the hotspot (signal strength) in order to buffer the web series movies etc\\n\\n', '\\n\\n  Good product\\n\\n', \"\\n\\n  The phone is simply amazing. The Raven Black model looks gorgeous. Very sturdy. The camera quality is excellent. The UI is user friendly. This phone is similar to the Samsung range of phones, so it is hard to decide the model that's best for its price. According to my analysis, M21 is a good by at 12699/-.\\n\\n\", '\\n\\n  At this cost, the phone looks premium. For folks who like a premium looking phone not the fancy looking phone, this is the best at this price segment. all other products at this price bracket consist of fancy and decorated back which may not be the cup of tea for a section of people for whom simple and plain is the premium. Monster battery, One of the best display at this price segment, great finger print sensor, decent camera etc.. If you are a non gamer, go for it...Only problem i faced is delay in delivery (almost 10 days).\\n\\n', '\\n\\n  Pathetic phone. It is overheating and I am not able to use it. Worst customer service from Amazon guys as they are saying blanco app shows heating as normal in diagnosing. Awful service and worst phone.\\n\\n', \"\\n\\n  Not as expected from samsung, this phone heated very badlly , it's heated in ideal mode too, started slowly slowly and within 5-10 minutes it's heated extremely.\\n\\n\", '\\n\\n  I received a samsung galaxy M 21 which is defective, as it does not start, or it does not even charge. Please help me initiate a return for the same\\n\\n', \"\\n\\n  I got this phone on 15th of May.I am writing this review  after 5 days of usage...1.Battery backup is not very good. It's good but not like 6000mah at all.Also charging is really slow.2.It's SAmoled screen is best in this price range.3. Processor is not very powerful,I have noticed some occasional lags.4.Heating issue detected in front camera areasIt's not like overheat or something but it is hot.5.Os is good but there is no network speed meter function present natively.6.FB app is keep refreshing it's feed when I minimize and open the app again after some time.7.Sometimes app crashes without any reason.8.The phone is heavy not too heavy but you can easily notice it after some day's of usage.9.At 12699 price I don't think there is any other phone is as good as this is,atleast for now.10.It doesn't have Good lock and native screen recorder present in OS neither you can sideload them.This is unfair I think.\\n\\n\", \"\\n\\n  Mind blowing  mobile .. dear mates don't go for this.. network related issues  frequently  will get. 3 and 4 bars network  points is related to 1 and 2 bars in samsung.. what they mention in community samsung I'll tried. But nothing .. so please think before purchase .. big disappointment  in samsung m21.. check in screenshots  that's In some outdoors  lan area if u go upstairs  1 more bar extra only showing,same thing I checked in some other mobile it's showing full .. I think some issue in m21.. please release the update. I'm very dissatisfied about samsung.. actually  I love this design  and camera...\\n\\n\", '\\n\\n  Nice rear camera and nice selfie camera but front camera struggles at night , sound is superb, display is awesome, battery ok, fingerprint reader superfast, I would suggest 6GB variant.\\n\\n', '\\n\\n  The best to choose among the available choices in this range.  I am using it since one week and I am fully impressed with all the features. The camera quality and battery life are excellent. Fingerprint reader is very fast.  Elegant design and wonderful display. The user interface is also very good.  Only difficulties I faced was to find app lock and split screen. But these purposes were fulfilled by external apps from the play store.I strongly recommend purchasing this phone. The best value for money product. I am full satisfied with the purchase 😊\\n\\n', '\\n\\n  Just after starting the phone I am facing the heating problem . I have bought two phone in both of them there is over heating .\\n\\n', '\\n\\n  Ski charging and bad network connection\\n\\n', \"\\n\\n  So, here it is after using it for more than a month. this phone has a lot of impressive features but lacks a bit of punch when it comes to processing power.My usage is mostly for calling, whatsapp, and video viewing, i don't use much of social media apps and not into too much gaming as well. Still this phone manages to freeze even with just one app running it can be just the chrome browser. Here is summary of what i observed  - Samsung one ui comes with lot of annoying advertisement and notifications, i suspect these galaxy app hog cpu in the background  - Privacy is a huge concern specially with discover feature  - For those who are accustomed to having google news feed by swiping right on home screen, you will find it missing in this phone  - Phone freezes a lot, typical workaround for me is to lock it and wait for a minute unlock and it works  - Wide angle camera shots are really good  - camera quality is nice as well  - battery life is  great, i am charging every two days instead of daily night  - look and finish a not extra-ordinary but are not bad as well  - Does not allow you to restore from google backup on start which is a headache on setting it up, it does come with samsung switch app but that would just install app and cannot restore login and data like google restoreverdict=====Buy this if you are ok with advertisements (i guess same is true with mi, realme etc) from samsung, not too much into heavy usage like gaming etc.Edit 1====phone freeze issue reduced by a lot by removing external sd card. Browser does freeze sometimes but the frequency is a lot lessSamung ui misses user friendly sms/call blocking, you have to select individual message sender details and then block which is a headache and can be improved\\n\\n\", \"\\n\\n  Don't buy anybodySamsung take advantage of India brand price high features quality v low👎👎👎👎👎👎👎\\n\\n\", '\\n\\n  Sir l contact amazon care many times regarding complaint  samsung galaxy M21 mobile,The issue is1.Invalid/ defferent IMEI NUMBER2 .DIFFERENT DEVICE MODEL NO.3.sensor NOT RESPONDING / NOT WORKING PROPERLY4.HANGING PROBLEM IN PHONE5 .HEATING PROBLEM IN PHONE.6.NOT BECOME  MOBILE HOTSPOT ON, WHILE SETTINGS ARE NORMAL ALSO.7.SCREEN TOUCH SLOW RESPONSE\\n\\n', '\\n\\n  Everyone is removing Chinese products from their life and hence I also planned to throw Xiaomi from my gadget and start using Samsung from now onwards. I further thought to convince my friends & relatives to use Samsung gadgets instead of Xiaomi. But after purchasing Samsung Galaxy M21 from Amazon which was delivered on 30-05-2020, my whole enthusiasm went in trash and I am helpless to compare it with my last handset Redmi 8 which was valued just Rs. 7,999/- as compared to Rs. 12,699/- of Samsung Galaxy M21. I don’t want to compare Samsung with Xiaomi handsets, but now realize how Xiaomi has captured Indian market in short span of time, surely because of quality & performance of their gadgets.I am trying Amazon customer care since 01-06-2020, but unable to connect and no response from their side. Below are serious issues found in just 2-3 days of using Samsung Galaxy M21 :• While using wi-fi calling feature, outgoing calls & receiving of SMS gets completely barred• While using wi-fi, HD call gets stopped• Whole battery gets drain in just 6-7 hours, not upto 6000 mAh handset performance.• Fingerprint sensor is very weak, it takes 3-4 times for login• Dual apps feature is limited for few applications only• Voice recording feature needs improvementPlease support in getting this issue resolved at the earliest.\\n\\n', '\\n\\n  Everything about this phone is great...best phone and best brand 💪💪.Loved it and nowi am enjoying it 😍😍🤩🤩🥰🥰😇😇\\n\\n', \"\\n\\n  When the phone arrived 1st 2days are quite good and phone worked perfectly.  But after 2days it started showing sone battery problems and battery lasts only upto 3 to 4 hrs which not accepted with this phone and it's getting even worse now. And now Amazon is not responding to it . It seems like i lost my 13 thousand money.  If any help provided it means alot to me coz i didn't expected this kind of trust issue with amazon.\\n\\n\", '\\n\\n  Before I go into details, let me admit that I was a staunch \"hater\" of Samsung Android phones, specially in the low mid range. The first and last Samsung phone I used was a Galaxy Core, back in 2012. I absolutely hated it, and promised to never buy a Samsung phone ever. But then there was an ad and I purchased this M21.. Samsung again, after 8 years. And during these 8 years, I have used Sony Xperia, Moto G, Redmi 4, Redmi Note 7 Pro. So my review is actually a comparison of those phones with this beast.The major advantage of this phone, compared to my Moto G, is the brilliant sAmoled display with Full HD resolution (not 720p, thank God).Processor is so optimised for this phone that it works like a breeze and stays cool like, unlike my both Redmi\\'s. I dont bother the fact that its not a Snapdragon. Performance and usability is so much optimised that you shall never complain.Battery backup is a perfect two day affair, for more than normal usage. Screen on time is excellent. I can easily go through 2 days even after streaming web series and talking a lot on phone calls.The only thing that bothered me is the finger print sensor. Its not a feather touch one, definitely. But it still works pretty good, once you put your finger on inlt properly.For me, its a very good deal under 15k. Would recommend this to anyone, even when blind folded!\\n\\n', \"\\n\\n  Samsung galaxy m21 (I'm having 4gb ram variant) is a excellent phone in this price segment.Pros:1. Best display under 20k2. Great audio quality via headphones jack (supports dolby audio which is obviously a gimmick but this phone has high res support hence if you have Poweramp you would get maximum quality performance from it.) and has a loud output from loud speaker.3. Excellent battery life (for heavy use easily getting SOT more than 8 hours)4. Great for watching movies supports for FHD+ playback in ott.5. Good performance, not stutters or lag I have noticed (I usually dont keep more than 3 apps in background when in not use).6. Games don't lag or have frame drops if I have moderate graphics. (Even pubg runs great in smooth and extreme settings).7. Samsung One UI is the best next to stock Android (Oxygen os, stock android no big difference except few additional features in Oxygen os). Also comes with Android 10 out of the box.8. Decent camera quality both front and back.9. Unlike previous m series phones this one comes with Corning Gorilla glass 3 and I haven't applied any screen protection and have no scratches till now🤞🤞🤞10. Multitasking is the best feature in this phone. Pop up view mode is a excellent festures. Helps to play games listening to music in youtube or other apps, text messages, browse web simultaneously with this large display.Cons :1. Plastic back can easily get scratched can be avoided using a case.2. Could have added 18W fast charging capabilities takes 2-2.5hours to fully charge (from 15 or 20% to 100).3. Not for gamers who expect high graphics. But recommend for casual gamers or gamers who would be okay to play in moderate graphics.4. Worst camera quality in night mode. Night mode photos are totally unusable. (Samsung may fix this issue with software update if they work on this issue)Conclusion:Don't know why many are complaining about poor battery life or heating issue or games totally unplayable complaints. Dont spread false informations.I haven't faced these issue, even in heavy useage.Buy this phone if you want a all-rounder phone which ticks every boxes.Fyi,Like all other phones in this price segment, even Samsung pushes ads, but here during initial setup of the phone it ask if we would opt for recommendations. If we opt out we wont get any ads and recommendations.👍👍👍\\n\\n\", \"\\n\\n  Believe me...the best smartphone you can buy at this price range if you are not a hardcore gammer...don't compare it with cheap Chinese products.\\n\\n\", '\\n\\n  Battery charging takes too much time and when opted for replace, so much of formalities by amazon. Highly disappointed of purchasing such a valuable item from Amazon. Only by technician check, and after his report, amazon decides whether the item should be replaced or not. No value for customer words. Very bad experience with amazon purchase.\\n\\n', \"\\n\\n  This is my second review.  This is after a week's use. So far I have found that phone is good. In my first review I had tod that battery is not that good. But now I feel that I was wrong. A day almost 10 to 20 percentage battery drain. (Only finish).One of the main problem I face is the search button for contacts. It is placed in a corner and that too very small. And if I search a contact. After few days if I open contacts again, what I searched will still remain there. I have to go all the way back to search again.\\n\\n\", '\\n\\n  Of no use.totaly waste of money\\n\\n', \"\\n\\n  Recieved it today.1) Battery is excellent- can last for 2 days with average usage.2) Camera is good according to price of Mobile- Don't expect DSLR level clarity but it's good.3) Phone is running without any lag. not a gamer so haven't run any game.4) Network and voice clarity is excellent. Haven't faced any problem.5) Touch ID is respsonsive.I would say in this price segment, the phone comes with excellent qualities.\\n\\n\", \"\\n\\n  It's all in one product. With a big battery life and large display. Back camera is awesome with all the beautiful colours. The best thing I like about samsung is that it's user friendly. My first android was Samsun and the new one too. Am too excited abt using this new watta monster with 6000 battery life and 48mp camera.\\n\\n\", \"\\n\\n  Best phone under 14k price. If you won't buy other brands then it is best for you.  ~😋Good things -• 6000 mAh monster battery• Best display from Samsung Super Amoled display• 15 watt fast changing• Decent Camera Quality• One UI, Brand Value & Service 🥰• Dolby Atmos  ~😞Bad things -• Old Processor 9611 (moderate gaming)• Plastic back and little bit thick  So, if you not a professional gamer or want to gift your parents then go for it.\\n\\n\", \"\\n\\n  Cheapest Qaulity phone dumped after days uses  don't buy this mobile Amazon's fooling the customer charging issue display issued snapshot attached Hanging problem . Only wasetage of money .pathetic service waiting for return pickup last twodays .Snap shot attached for reference Guys don't buy this phone.\\n\\n\", \"\\n\\n  Buy it only if you do not play heavy games.I have tested this for multitasking and it worked even better than most of the good gaming phones.Its(Multitasking)all about memory management and it does so pretty  well. Just one thing to say that Amazon deleted my last review coz it was a bit against amazon. I hope this one won't be deleted.But everything which I told about this phone is true\\n\\n\", \"\\n\\n  Writing this review after 20 days use1)Really lots of network issues don't Ignore this point (with mobile network with WiFi network)2)Wi-Fi calling feature not working properly3)If you save new numbers in phone it's not showing in contact details but it showing in what's app number4) Some times your calling get directly disabled in this u need to restart mobileI m not playing heavy gaming so I can't tell about thatBut if u want buy mobile for heavy call so my suggestion is don't buyBecause I m very frustrated due to this mobile network issueBattery performance is very excellentI have not much money to buy another phone so now i m adjusting with this phoneI Purchase this phone after 3 years with exchange offer now I m missing my old phoneSamsung launches lots of new mobiles to attract Indian customers but not working on their bugsRequest to Samsung, don't broke Indian customers trust.Other wise u r company will also seat in Nokia row.Very disappointed Writing this review for only Professional and middle class peopleTime pass ke liye, college Professional, House wife, ideal people ke liye ye phone best hai\\n\\n\", \"\\n\\n  Let me be Straightforward, being passionate photographer I was looking for a budget Smartphone with a nice Camera and good Specs. But after Purchasing Samsung's M21 what I had found was it is Monstrous in every aspects of a budget Smartphone. From Monstrous Battery life to an Amazing Camera, Nice Ram Management, Clean One UI 2.0, and tons of other perks...If you are looking for a Monstor Budget Smartphone from a Reliable, Reputed and Trustworthy Brand then without wasting time go for this one !!!❤\\n\\n\", '\\n\\n  Best budget phone..Really awesome 😊😊I recommend everyone to buy this mobile in less than 15k marginBattery is excellentFingerprint sensor is very fastCamera is ultimate\\n\\n', '\\n\\n  Guess it was a problem with the seller, and not the product. The seller just delivered a used product with loads of defects. The camera was not functioning, the torch was not functioning and there could be more defects. I was just checking the item the moment it was delivered and encountered with these two defects. Upon unboxing, I found that the phone had a tempered glass already fitted to it. Initially I overlooked this but later realized that someone who had purchased it invested on the glass (and may have used it for a couple of days) with the defects before finally rejecting it. I think the M21 product should be fine and it is upon the seller who tried to strike a deal in such troubled times. So beware of the seller!\\n\\n', '\\n\\n  Camera quality not that much what we expect rear and selfy both camera -pic quality missed , battery life max 18hours if we used data , This report as of after 3days usage\\n\\n', '\\n\\n  Worst product it takes so much time to chargeHow can a person charge for al10 hrs to fully charge the battery.Its insane and am not able to replace the item.Amazon must be liable for this product.\\n\\n', \"\\n\\n  What a nonsense phone this is.. battery performance is very disappointed... 4000 mah is  too better than it's battery.... more than 12% battery is losing in night-morning.... heating is another important issue ... with out playing any games or hard use, this phone heats high... display quality is so good... don't by this phone, considering its battery... no use.. charging time is very high..... Redimi note 9 pro is 100* better than this phone... Realme nazro 10 performes 2*better than this... dont go with this phone... be aware\\n\\n\", \"\\n\\n  Hello guys so I just ordered this phone and it's almost 10 days to get this phone in hand and the first of all this phone is having a gorgeous display but there is one major issue. Which I need to highlight is this phone have serious network issue I have also shown this issue to my nearest Samsung Service Centre they even can't help me so if you guys have a very  bad network or average Network at your home or your workplace so this phone is not for you..\\n\\n\", '\\n\\n  galaxy m21 review:-first of all, it\\'s a very similar device to the galaxy m30s galaxy a50s and galaxy a51 in terms of internal you can\\'t tell the difference between galaxy m30s and m21 in just looking at it. there are some differences between the two devices but not a lot.good:-Display:- so this is the main feature of this phone a full HD super AMOLED display on a 14000 rupees phone is very rear and this the differentiating feature of this device, which include lots of feature of own it\\'s own such as always on true notch hiding and some battery-saving features so it doesn\\'t have the on-screen fingerprint sensor which frankly speaking a good thing because Samsung\\'s in-screen fingerprint sensor is bad really bad it\\'s that bad you  prefer not to use it, and it\\'s fingerprint also have swipe gestures for the notifications which work all the time unlike it\\'s the in-display fingerprint sensor.Software:- software is also really good and it has some neat feature too like the system-wide dark mode which saves battery on the AMOLED screen\\'s and clean and well thought out layout for the one-handed use a good if not great out of the box launcher with few customizations, unlike some Chinese OEM\\'s software, hex installer, and the good lock is absent which is a big bummer for the customization freaks and overall it\\'s nicer UI than most of the Chinese ones and one thing more it also supports android 10\\'s stock navigation gestures which are a heck of a lot better than MIUI\\'s.battery:- it\\'s a full day battery comfortably with all the necessary sensors on the auto-brightness and vibration both of which disabled out of the box for some reason \"because Samsung thinks we are a fool\" it\\'s a 6000 MAH battery if this type capacity would provide another phone my be it was juice it out little longer than this phone does.camera :- this is very strange camera in default camera app shoots very saturated photo and the video is good honestly quite good for the price in day light in nights this phone just falls apart very easily, and wide angle camera is fixed focus which is a good thing or bad thing I don\\'t know, I use it very occasionally and I I am surprised to see that AR doodle and AR emoji is present In it\\'s camera app which is nice bonus.Bad or desired thingBuilt quality:- it\\'s a have a plastic back with a plastic frame means it\\'s a plastic phone and have plastic\\'s quirks like despite having a 6000 mAh battery, it feels light, relatively thin and more ergonomic, it\\'s a plastic, plastic materials are more prone to be scratched but it more durable than glass, if tap on the back around the camera it creates hollow sound so built quality is not on par with the competition.performance: - performance leaves a bit desired because it handles everyday stuff like WhatsApp Instagram and other productivity Apps quite smoothly and in games, it\\'s fall flat in front of the competition and in the 4gb variant 2GB of memory is occupied by the system already so ram Management is an issue in this device, and the stupid battery optimization is killing all the third-party apps in the background some of the like the music app suddenly stops playing song after 1 hrs, you have to disable the battery optimization from the setting in each app you use in the background all the time.Bloat & Ads:- it has all the Microsoft suits preloaded and be careful when you set up the device at the start don\\'t select the option ad recommendation option. even after that my galaxy apps constantly send the spammy notification.so it worth 14000? In my use case yes! I am not a heavy user I don\\'t play heavy games on my phone, for the heavy users, there are lots of better offerings on the online market!\\n\\n', '\\n\\n  Only display is good. Sound quality and ring volume is Not good. Some most important features like App Lock is missing in this phone. You have to download a third party App to encrypt your App. This is very disappointed. Ring volume is very low and very limited ringtones. User interface is not good even Not user friendly. No headphones, No back cover, No screen guard. Dear Samsung, you need some research in this field otherwise you will be eliminated. Very bad experience.\\n\\n', \"\\n\\n  It's kind request to everyone who is looking for this device, Don't buy it unless you live in area where network strength is strong.Network fluctuating all the time, hardly you Will get 4G, forgot volte Main issue is camera ... after 11 days i saw dust inside camera lens,  dust in brand new phone, Amazon customer care told after 10 days we don't care about anything, talk to Samsung customer care. Samsung care says go to nearest service center,Service center vale says submit your phone, we will see.  Aatmnirbhar ke chakkar me apna chutiya mat katva Lena bhaiyo. Although battery is too good, display is premium.\\n\\n\", '\\n\\n  No wonder why Samsung is the most used & most loved smartphone brand in the world! This is my first Samsung phone and I exchanged my previous damaged phone online for 2k.After spending one whole month in researching the best phone under 15k, I finally got it figured out and chose Galaxy M21. And Youtube videos and comments helped me take the wise choice. I got the deal (4gb 64gb) at Rs.13,500 and got it delivered in 6 days.Plenty of reasons why I chose M21:Will to honour our country heroesMonster BatteryGreat Display (feels like you are also present in the movie)Trust in Samsung Brand NameBetter CameraLesser weight (a boon for long time gamers)Polycarbonate back (safe against drops)Premium look rather than Fancy Nancy cheap plastic bodyType C ChargerThe Processor Debate:To those who wonder the same as I did (If we can play Pubg smoothly),The honest answer is YES. Pls do not take third opinions who claim that Exynos processor is lame (which is a false claim of knowledge). I can\\'t say if it is bad or awesome, but it is definitely Decent! You can play Smooth+Extreme or Balanced+Ultra without any issue. Even if you do full and heavy usage for 12 hours continiously, battery is sufficient and fast charging works too. So i easily charge every night before going to sleep and turn it off in middle of night.Super Tips for Common Problems in All PhonesUpdate OS to avoid heating & restart issue (which happens not only in M21 but even in 60k phonesNever use a phone cleaner or battery saver app. Use the inbuilt power saving option.Turn off Bluetooth, Location, etc when not neededDon\\'t charge even after reaching 100%Close apps when not needed, especially close all when playing game (and also enable gaming mode)Uninstall least used appsWhoever reads this comment can trust me and click the Amazon \"Buy Now\" button without any fear because this is the ONE perfect-ish smartphone under 15k category.Friends.... this phone feels like you hold jewel in your hand .\\n\\n', \"\\n\\n  No doubt i am loving Samsung m 21 4/64, which i ordered on 25th may, got delivered on 27th may. One thing to consider, this smartphone excels in display, camera quality and battery life...Processor is not that  powerful or not even close to sd 675 in terms of gaming. I have to use gfx tool, lowering resolution( less than hd) and other graphics stuff to Low with fps set to ultra(40fps). By applying this gfx tools settings i can play Pubg hell lot better with stable 30-40 fps. Dont try extreme,fps will be very unstable. With stock Pubg settings i am facing tremendous lags, stutters and fps drops even in the lobby, Cant say about 6/128 gb model. Didn't try Cod, i usually dont play, Pubg lite plays fine with smooth extreme option only. My verdict if u are not too much into gaming, Play clash of clans, or can adjust to above settings of Pubg, Go ahead to buy,  If pubg is top priority go with Vivo U20/Realme 6/Redmi note 9.\\n\\n\", '\\n\\n  Review for 6GB/128GB varient (Review after one month use)Pros: Really a amazing phone in peformance wise. smooth like iphone. Battery last for three days even with wifi and bluetoooth connected for almost 10 hours a day. High end games are running without lag. Dual speakers so music plays loud. No heating issue as of now. Depth camera is really cute, you must experience it to believe. Corrila glass doing its part perfectly. No scraches even after rough one month usage. Screen resolution in amazing; Super Amoled is really superb. Finger print senson is fast (even less than a second)Cons: Apart from depth camera all other cameras are not upto the mark. But its ok for unprofessional use. Not recommended for selife freakouts. Phone is little heavey due to 6000 MAH.\\n\\n', '\\n\\n  For those who are still using old Galaxy phones like the Galaxy J2, I think the Galaxy M21 would make logical sense.Samsung Galaxy M21: Although the phone excels on many fronts, my two favorite features remain the battery life and the quality of the display.A few months back, Samsung successfully made big-battery smartphones accessible with its M-series. But the mid-range is a tough segment to crack with the competition from the likes of Xiaomi and Realme. But Samsung knows how critical this segment is right now, given the current situation where consumers are more price-sensitive than ever. For these uncertain times, the new Galaxy M21 makes a lot of sense. Here’s a closer look at what it’s been like to use the Galaxy M21 over the past week.Samsung Galaxy M21 specifications: 6.4-inch FHD+ SAMOLED display|Exynos 9611 processor, 4GB/6GB RAM or 64GB/128GB storage|48MP main camera+5MP depth and 8MP ultra wide angle|6000mAh batery|20MP front camera|188grams, 8.9mm thick|Android 10, OneUI 2.0Samsung doesn’t try to be different with the Galaxy M21, and that’s just fine. Let me be clear: I don’t have too many things to say about the Galaxy M21 because the phone looks exactly like the Galaxy M31. So, the Galaxy M21 has a polycarbonate back like the Galaxy M31. Some people may not find it interesting but it never felt like using a cheap plastic phone.For a phone with a 6000mAh battery, the design and build seem perfect. I also liked the fact that the phone doesn’t feel heavy or bulky, considering the massive battery inside the device. However, I do feel the Galaxy M-series phones have become a bit too dull in terms of design. To be frank, none of this matters to a user who is coming from the Galaxy J-series or any older generation Samsung phone.Although the phone excels on many fronts, my two favorite features remain the battery life and the quality of the display. The 6,000mAh battery in the Galaxy M21 goes on and on. It managed to last one and a half days with my standard usage pattern, which includes browsing the web, listening to Spotify, emails, checking Facebook and Twitter, and light gaming. Since the phone’s battery lasts for so long, you don’t want to worry about taking the charger with you. A quick-charge with the charger fills the phone’s battery in minutes.Another aspect of the M21 that I liked the most is the display. This is a big phone with a 6.4-inch Full HD+ display. And since the phone uses an AMOLED display, the contrast level is great and the black levels are absolute. Even though a lot of mid-range phones these days offer AMOLED displays, the ones made by Samsung have better displays somehow. I found the screen absolutely fine for reading eBooks, watching YouTube, and web browsing. By the way, the small U-shaped notch doesn’t annoy me anymore. It did annoy me a lot at the beginning but it soon becomes a part of the scenery.Speaking of performance, the Galaxy M21 is powered by the same Exynos 9611 chipset that you find on the Galaxy M31. Samsung has used this processor on many of its mid-range phones and going by my testing, the chipset gets the job done. I was able to open all of the popular apps like Facebook, Twitter, and TikTok on the device without any issues. But don’t try to run too many heavy games that could slow down the performance. The phone runs on Android 10, and Samsung has done a good job with OneUI 2.0. My review unit had 4GB RAM and 64GB of storage.You won’t get a great camera system, and that’s one area where I think the phone falls flat. You get a 48MP primary camera sensor alongside an 8MP ultra-wide camera and a 5MP depth camera. The 48MP main sensor is a hit and miss. Sometimes the photos look great and other times the photos come out of focus. That’s not to say the camera is bad, it is just not consistent. The Galaxy M21 takes bright shots but in some cases, images lack richness. Even though the phone lets you take ultra-wide angle shots or bokeh shots I wasn’t too impressed. In comparison to the Galaxy M31, the Galaxy M21 pales in the camera department. For a change, though, the Galaxy M21’s 20MP front-camera surprisingly worked well both indoors and outdoors.The Galaxy M21 performs similarly to the Galaxy M31. I mean, both phones have a 6000mAh battery, identical processors and displays, and even the design is the same. What the Galaxy M21 noticeably lacks, however, is a camera that’s not at par to the Galaxy M31. Still, there’s a lot to love about the Galaxy M21. For those who are still using old Galaxy phones like the Galaxy J2, I think the Galaxy M21 would make logical sense.\\n\\n', '\\n\\n  Camera quality is average , slow fingerprint and battery is little bit better 13 % to 77 % in 2:30 hrs  charging\\n\\n', \"\\n\\n  I order this mobile from amazon..first 1month experience is great..good quality camera,best battery,average fingerprint..but after 1 month the mobile give charging problem...mobile can't charge..when i call for help amazon says that go to samsung care ..no one can help when the product is damage...just harrssing us... don't buy from amazon..\\n\\n\", '\\n\\n  Super colour blue\\n\\n', '\\n\\n  \\xa0So of course battery and display is awesome.The charger is not soo fast but its okay, decent performance ,but i am very dissappointed with  its camera its not upto the mark (48megapixel) photo quality achhi nhi lgi, it doesnt capture the details  not even is this good for night or low light photography and in video its focus is worst\\n\\n']\n"
     ]
    }
   ],
   "source": [
    "print(data_set[\"Samsung Galaxy M21 (Midnight Blue, 4GB RAM, 64GB Storage)\"])"
   ]
  },
  {
   "cell_type": "code",
   "execution_count": 13,
   "metadata": {},
   "outputs": [],
   "source": [
    "df=pd.DataFrame.from_dict(data_set,orient='index').transpose()"
   ]
  },
  {
   "cell_type": "code",
   "execution_count": 14,
   "metadata": {},
   "outputs": [
    {
     "name": "stdout",
     "output_type": "stream",
     "text": [
      "   Redmi 8A Dual (Sea Blue, 2GB RAM, 32GB Storage) – Dual Cameras & 5,000 mAH Battery  \\\n",
      "0   \\n\\n   Defective product shipped.. reported wi...                                   \n",
      "1   \\n\\n  Nice phone camera better attractive look...                                   \n",
      "2   \\n\\n  Design-GoodCamera-NiceDisplay-satisfacto...                                   \n",
      "3   \\n\\n  The headphone jack is not working  😡 Des...                                   \n",
      "4   \\n\\n  First sell, First order. Mobile is very ...                                   \n",
      "..                                                ...                                   \n",
      "95  \\n\\n  I have read the reviews before buying th...                                   \n",
      "96  \\n\\n  The Budget BeastNo words to describe the...                                   \n",
      "97  \\n\\n  Battery is okCamera is goodBut missing w...                                   \n",
      "98  \\n\\n  Ok phone. Brought as I got good exchange...                                   \n",
      "99  \\n\\n  Simple smartphone, but Good Smartphone! ...                                   \n",
      "\n",
      "   Samsung Galaxy M21 (Midnight Blue, 4GB RAM, 64GB Storage)  \\\n",
      "0   \\n\\n  Update (15/08/2020):Never give a chance ...          \n",
      "1   \\n\\n  As a title it is obviously a monsterAnd ...          \n",
      "2   \\n\\n  Brilliant camera, huge battery life and ...          \n",
      "3   \\n\\n  I am writing my review after using it fo...          \n",
      "4   \\n\\n  Defective product received, it gets 8 to...          \n",
      "..                                                ...          \n",
      "95  \\n\\n  For those who are still using old Galaxy...          \n",
      "96  \\n\\n  Camera quality is average , slow fingerp...          \n",
      "97  \\n\\n  I order this mobile from amazon..first 1...          \n",
      "98                        \\n\\n  Super colour blue\\n\\n          \n",
      "99  \\n\\n   So of course battery and display is awe...          \n",
      "\n",
      "   OPPO A5 2020 (Dazzling White, 4GB RAM, 64GB Storage) with No Cost EMI/Additional Exchange Offers  \\\n",
      "0   \\n\\n  Brought this phone for my wife who is di...                                                 \n",
      "1   \\n\\n  Best option for exchange, I got it in 9k...                                                 \n",
      "2                  \\n\\n  Good Phone With Exchange\\n\\n                                                 \n",
      "3   \\n\\n  Oppo makes very nice phone at this price...                                                 \n",
      "4   \\n\\n  Lowest speed ever seen in android and ch...                                                 \n",
      "..                                                ...                                                 \n",
      "95  \\n\\n  5 🌟 , good opportunity with to exchange....                                                 \n",
      "96  \\n\\n  Battery heats up a bit if used for a som...                                                 \n",
      "97  \\n\\n  fingerprint and faceunlock very fast.dol...                                                 \n",
      "98  \\n\\n  Very Good phone in this budget.Nice get ...                                                 \n",
      "99  \\n\\n  Bkwas phone totally don't buy, this phon...                                                 \n",
      "\n",
      "   Samsung Galaxy M01 (Black, 3GB RAM, 32GB Storage) with No Cost EMI/Additional Exchange Offers  \\\n",
      "0                           \\n\\n  Damaged product\\n\\n                                              \n",
      "1   \\n\\n  Its compact feel better for day today no...                                              \n",
      "2   \\n\\n  Nice phone from Samsung in this price. D...                                              \n",
      "3   \\n\\n  Gifted it for my mother. It is perfect s...                                              \n",
      "4   \\n\\n  I have compare a samsung, Panasonic, and...                                              \n",
      "..                                                ...                                              \n",
      "95  \\n\\n  I got this at 8k and my mom likes it.Pro...                                              \n",
      "96  \\n\\n  Phone is good at this price range with S...                                              \n",
      "97  \\n\\n  Samsung is just not able to deliver the ...                                              \n",
      "98  \\n\\n  Got a defective set, where calls keep dr...                                              \n",
      "99  \\n\\n  One of the best smart phone in 9k Rs ......                                              \n",
      "\n",
      "   Samsung Galaxy M31 (Ocean Blue, 6GB RAM, 128GB Storage)  \\\n",
      "0   \\n\\n  Best camera, very good battery life, eat...        \n",
      "1   \\n\\n  This is best thing you can get at this p...        \n",
      "2   \\n\\n  3rd class front camera. 32 MP front came...        \n",
      "3   \\n\\n  Lets just begin with the obvious. This p...        \n",
      "4   \\n\\n  I am using it from 3 days , 6000 mah bat...        \n",
      "..                                                ...        \n",
      "95  \\n\\n  I use m31 last 2 months Best camera qual...        \n",
      "96  \\n\\n  Charging time up switch of me 6 hour me ...        \n",
      "97  \\n\\n  I bought Samsung M31 (6gb,128gb model) 2...        \n",
      "98  \\n\\n  Weak signal antenna...Flash and wide ang...        \n",
      "99  \\n\\n  I can't believe within a month the phone...        \n",
      "\n",
      "   Samsung Galaxy M01 Core (Black, 2GB RAM, 32GB Storage) with No Cost EMI/Additional Exchange Offers  \\\n",
      "0   \\n\\n  Thank you samsung and Amazon for timely ...                                                   \n",
      "1   \\n\\n  Very smooth UI latest M series .Battery ...                                                   \n",
      "2   \\n\\n  I free of cost taken this phone for I sh...                                                   \n",
      "3   \\n\\n  Its not working. Pls don't buy this phon...                                                   \n",
      "4   \\n\\n  The phone suddenly went completely dead ...                                                   \n",
      "..                                                ...                                                   \n",
      "95  \\n\\n  Battery backup, screen quality and camer...                                                   \n",
      "96  \\n\\n  The phone stopped working after 15 days ...                                                   \n",
      "97  \\n\\n  The phone doesn't switch On at all after...                                                   \n",
      "98  \\n\\n  My younger sis using this phone since da...                                                   \n",
      "99  \\n\\n  The phone get a switched off within a da...                                                   \n",
      "\n",
      "   Tecno Spark 6 Air (Ocean Blue, 3GB RAM, 32GB Storage)  \\\n",
      "0   \\n\\n  One of the best budget phones available ...      \n",
      "1   \\n\\n  Value for money. I really wanted make an...      \n",
      "2   \\n\\n  Easily the best specifications at 7999.W...      \n",
      "3   \\n\\n  No back cover,if u go in settings ,---le...      \n",
      "4   \\n\\n  Made in India, Originated from PRC. Very...      \n",
      "..                                                ...      \n",
      "95  \\n\\n  Good battery backup , camera quality exc...      \n",
      "96  \\n\\n  Good for viewing Videos and Multimedia a...      \n",
      "97  \\n\\n  Sound is low and all others are good in ...      \n",
      "98  \\n\\n  Tecno spark 6air is a good phone .I purc...      \n",
      "99  \\n\\n  I think this good phone below 8000. Scre...      \n",
      "\n",
      "   Redmi 8A Dual (Sea Blue, 3GB RAM, 32GB Storage) – Dual Cameras & 5,000 mAH Battery  \\\n",
      "0   \\n\\n   Defective product shipped.. reported wi...                                   \n",
      "1   \\n\\n  Nice phone camera better attractive look...                                   \n",
      "2   \\n\\n  Design-GoodCamera-NiceDisplay-satisfacto...                                   \n",
      "3   \\n\\n  The headphone jack is not working  😡 Des...                                   \n",
      "4   \\n\\n  First sell, First order. Mobile is very ...                                   \n",
      "..                                                ...                                   \n",
      "95  \\n\\n  I have read the reviews before buying th...                                   \n",
      "96  \\n\\n  The Budget BeastNo words to describe the...                                   \n",
      "97  \\n\\n  Battery is okCamera is goodBut missing w...                                   \n",
      "98  \\n\\n  Ok phone. Brought as I got good exchange...                                   \n",
      "99  \\n\\n  Simple smartphone, but Good Smartphone! ...                                   \n",
      "\n",
      "   Redmi 8A Dual (Midnight Grey, 2GB RAM, 32GB Storage) – Dual Cameras & 5,000 mAH Battery  \\\n",
      "0   \\n\\n   Defective product shipped.. reported wi...                                        \n",
      "1   \\n\\n  Nice phone camera better attractive look...                                        \n",
      "2   \\n\\n  Design-GoodCamera-NiceDisplay-satisfacto...                                        \n",
      "3   \\n\\n  The headphone jack is not working  😡 Des...                                        \n",
      "4   \\n\\n  First sell, First order. Mobile is very ...                                        \n",
      "..                                                ...                                        \n",
      "95  \\n\\n  I have read the reviews before buying th...                                        \n",
      "96  \\n\\n  The Budget BeastNo words to describe the...                                        \n",
      "97  \\n\\n  Battery is okCamera is goodBut missing w...                                        \n",
      "98  \\n\\n  Ok phone. Brought as I got good exchange...                                        \n",
      "99  \\n\\n  Simple smartphone, but Good Smartphone! ...                                        \n",
      "\n",
      "   Redmi Note 9 Pro (Interstellar Black, 4GB RAM, 64GB Storage)- Latest 8nm Snapdragon 720G & Alexa Hands-Free | 6 Months No Cost EMI  \n",
      "0   \\n\\n  PLZZ read this complete information befo...                                                                                  \n",
      "1   \\n\\n  good batter backupgood cameragood mob de...                                                                                  \n",
      "2   \\n\\n  Nice product in this price... Good quali...                                                                                  \n",
      "3   \\n\\n  Hi all,As I have bought redmi note 9 pro...                                                                                  \n",
      "4   \\n\\n  Beauty and the beast combination with sn...                                                                                  \n",
      "..                                                ...                                                                                  \n",
      "95  \\n\\n  Note down what your requirements are bef...                                                                                  \n",
      "96  \\n\\n  I have been using this product for 3 wee...                                                                                  \n",
      "97  \\n\\n  Design and look is premium. Performance ...                                                                                  \n",
      "98  \\n\\n  The product says fast charging is availa...                                                                                  \n",
      "99  \\n\\n  The product does not work properly.and t...                                                                                  \n",
      "\n",
      "[100 rows x 10 columns]\n"
     ]
    }
   ],
   "source": [
    "print(df)"
   ]
  },
  {
   "cell_type": "code",
   "execution_count": 15,
   "metadata": {},
   "outputs": [],
   "source": [
    "df.to_csv('data_set.csv')"
   ]
  },
  {
   "cell_type": "code",
   "execution_count": null,
   "metadata": {},
   "outputs": [],
   "source": []
  }
 ],
 "metadata": {
  "kernelspec": {
   "display_name": "Python 3",
   "language": "python",
   "name": "python3"
  },
  "language_info": {
   "codemirror_mode": {
    "name": "ipython",
    "version": 3
   },
   "file_extension": ".py",
   "mimetype": "text/x-python",
   "name": "python",
   "nbconvert_exporter": "python",
   "pygments_lexer": "ipython3",
   "version": "3.7.6"
  }
 },
 "nbformat": 4,
 "nbformat_minor": 4
}
